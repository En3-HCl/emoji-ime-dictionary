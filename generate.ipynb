{
  "nbformat": 4,
  "nbformat_minor": 0,
  "metadata": {
    "colab": {
      "name": "generate.ipynb",
      "version": "0.3.2",
      "provenance": []
    },
    "kernelspec": {
      "name": "python3",
      "display_name": "Python 3"
    }
  },
  "cells": [
    {
      "metadata": {
        "id": "53fLEViLGr6V",
        "colab_type": "code",
        "colab": {
          "base_uri": "https://localhost:8080/",
          "height": 255
        },
        "outputId": "4a048480-3b1f-456b-d3ce-61e728b80c98"
      },
      "cell_type": "code",
      "source": [
        "!wget https://raw.githubusercontent.com/yagays/emoji-ja/master/data/emoji_ja.json\n",
        "!ls\n",
        "!du -sh *\n",
        "!head emoji_ja.json"
      ],
      "execution_count": 12,
      "outputs": [
        {
          "output_type": "stream",
          "text": [
            "--2018-10-16 09:05:36--  https://raw.githubusercontent.com/yagays/emoji-ja/master/data/emoji_ja.json\n",
            "Resolving raw.githubusercontent.com (raw.githubusercontent.com)... 151.101.0.133, 151.101.64.133, 151.101.128.133, ...\n",
            "Connecting to raw.githubusercontent.com (raw.githubusercontent.com)|151.101.0.133|:443... connected.\n",
            "HTTP request sent, awaiting response... 200 OK\n",
            "Length: 423205 (413K) [text/plain]\n",
            "Saving to: ‘emoji_ja.json’\n",
            "\n",
            "\remoji_ja.json         0%[                    ]       0  --.-KB/s               \remoji_ja.json       100%[===================>] 413.29K  --.-KB/s    in 0.06s   \n",
            "\n",
            "2018-10-16 09:05:36 (6.76 MB/s) - ‘emoji_ja.json’ saved [423205/423205]\n",
            "\n",
            "emoji_ja.json  sample_data\n",
            "420K\temoji_ja.json\n",
            "55M\tsample_data\n"
          ],
          "name": "stdout"
        }
      ]
    },
    {
      "metadata": {
        "id": "pH_7U9D4FR-2",
        "colab_type": "code",
        "colab": {
          "base_uri": "https://localhost:8080/",
          "height": 102
        },
        "outputId": "de83c2aa-60b8-41f0-9597-773e12b759e3"
      },
      "cell_type": "code",
      "source": [
        "import json\n",
        "with open('emoji_ja.json') as f:\n",
        "    d = json.load(f)\n",
        "print(d['🐶'])\n",
        "for k in d['🐶']:\n",
        "    print(k)"
      ],
      "execution_count": 27,
      "outputs": [
        {
          "output_type": "stream",
          "text": [
            "{'keywords': ['イヌ', 'イヌの顔', 'ペット', '動物', '犬', '顔'], 'short_name': 'イヌの顔', 'group': '動物と自然', 'subgroup': '動物 哺乳類'}\n",
            "keywords\n",
            "short_name\n",
            "group\n",
            "subgroup\n"
          ],
          "name": "stdout"
        }
      ]
    },
    {
      "metadata": {
        "id": "mnsbehBzL4fO",
        "colab_type": "code",
        "colab": {
          "base_uri": "https://localhost:8080/",
          "height": 187
        },
        "outputId": "55cc9282-c43f-4bc7-b294-023837b4d1b1"
      },
      "cell_type": "code",
      "source": [
        "from pykakasi import kakasi,wakati\n",
        "kakasi = kakasi()\n",
        "l = []\n",
        "for emoji in d:\n",
        "    for k in d[emoji]['keywords']:\n",
        "        if k.isalpha() is False:\n",
        "            continue\n",
        "        k = k.upper()\n",
        "        kakasi.setMode(\"J\",\"H\")\n",
        "        conv = kakasi.getConverter()\n",
        "        k = conv.do(k)\n",
        "        kakasi.setMode(\"K\",\"H\")\n",
        "        conv = kakasi.getConverter()\n",
        "        k = conv.do(k)\n",
        "        w = ':' + k + '\\t' + emoji + '\\t' + '記号' + '\\t'\n",
        "        l.append(w)\n",
        "\n",
        "    k = d[emoji]['short_name']\n",
        "    if k.isalpha() is False:\n",
        "        continue\n",
        "    k = k.upper()\n",
        "    kakasi.setMode(\"J\",\"H\")\n",
        "    conv = kakasi.getConverter()\n",
        "    k = conv.do(k)\n",
        "    kakasi.setMode(\"K\",\"H\")\n",
        "    conv = kakasi.getConverter()\n",
        "    k = conv.do(k)\n",
        "    w = ':' + k + '\\t' + emoji + '\\t' + '記号' + '\\t'\n",
        "    l.append(w)\n",
        "\n",
        "l.sort()\n",
        "l = '\\n'.join(l)\n",
        "#print(l)\n",
        "with open(\"emoji.txt\", 'w') as f:\n",
        "    f.write(str(l))\n",
        "!head emoji.txt"
      ],
      "execution_count": 75,
      "outputs": [
        {
          "output_type": "stream",
          "text": [
            ":ABC\t🔤\t記号\t\n",
            ":ABCD\t🔠\t記号\t\n",
            ":ABCD\t🔡\t記号\t\n",
            ":ABかた\t🆎\t記号\t\n",
            ":ATM\t🏧\t記号\t\n",
            ":ATM\t🏧\t記号\t\n",
            ":Aかた\t🅰\t記号\t\n",
            ":BACK\t🔙\t記号\t\n",
            ":BACKやじるし\t🔙\t記号\t\n",
            ":BACKやじるし\t🔙\t記号\t\n"
          ],
          "name": "stdout"
        }
      ]
    },
    {
      "metadata": {
        "id": "6tBZFGPBOpiE",
        "colab_type": "code",
        "colab": {}
      },
      "cell_type": "code",
      "source": [
        "from google.colab import files\n",
        "files.download('emoji.txt')"
      ],
      "execution_count": 0,
      "outputs": []
    },
    {
      "metadata": {
        "id": "cNTyG_qOTwJw",
        "colab_type": "code",
        "colab": {
          "base_uri": "https://localhost:8080/",
          "height": 221
        },
        "outputId": "9374ef05-b82e-411a-9dcd-df61769cb195"
      },
      "cell_type": "code",
      "source": [
        "!pip install six semidbm\n",
        "!pip install pykakasi"
      ],
      "execution_count": 55,
      "outputs": [
        {
          "output_type": "stream",
          "text": [
            "Requirement already satisfied: six in /usr/local/lib/python3.6/dist-packages (1.11.0)\n",
            "Collecting semidbm\n",
            "  Downloading https://files.pythonhosted.org/packages/d6/9d/44d4d3716844aa51b57123cdb1c7e7fedabcfd38781d58fa95cebbcddaf7/semidbm-0.5.1-py2.py3-none-any.whl\n",
            "Installing collected packages: semidbm\n",
            "Successfully installed semidbm-0.5.1\n",
            "Collecting pykakasi\n",
            "\u001b[?25l  Downloading https://files.pythonhosted.org/packages/c9/8e/ebe73f2a42734a5a2803d9dd8e2d0ef497abe2265ec6b6f6b216d6c872db/pykakasi-0.93-py3-none-any.whl (2.6MB)\n",
            "\u001b[K    100% |████████████████████████████████| 2.6MB 6.2MB/s \n",
            "\u001b[?25hRequirement already satisfied: six in /usr/local/lib/python3.6/dist-packages (from pykakasi) (1.11.0)\n",
            "Requirement already satisfied: semidbm in /usr/local/lib/python3.6/dist-packages (from pykakasi) (0.5.1)\n",
            "Installing collected packages: pykakasi\n",
            "Successfully installed pykakasi-0.93\n"
          ],
          "name": "stdout"
        }
      ]
    },
    {
      "metadata": {
        "id": "Jg3a4C8CZOAY",
        "colab_type": "code",
        "colab": {
          "base_uri": "https://localhost:8080/",
          "height": 34
        },
        "outputId": "7862a3b4-83a7-4622-b5e0-d8af66cf41bf"
      },
      "cell_type": "code",
      "source": [
        "from pykakasi import kakasi,wakati\n",
        "\n",
        "text = u\"カナ漢字交じり文\"\n",
        "kakasi = kakasi()\n",
        "kakasi.setMode(\"J\",\"H\")\n",
        "conv = kakasi.getConverter()\n",
        "text = conv.do(text)\n",
        "kakasi.setMode(\"K\",\"H\")\n",
        "conv = kakasi.getConverter()\n",
        "text = conv.do(text)\n",
        "print(text)"
      ],
      "execution_count": 60,
      "outputs": [
        {
          "output_type": "stream",
          "text": [
            "かなかんじまじりぶん\n"
          ],
          "name": "stdout"
        }
      ]
    },
    {
      "metadata": {
        "id": "reo6LD-obFGN",
        "colab_type": "code",
        "colab": {}
      },
      "cell_type": "code",
      "source": [
        ""
      ],
      "execution_count": 0,
      "outputs": []
    }
  ]
}